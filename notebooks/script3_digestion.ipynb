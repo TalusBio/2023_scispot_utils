{
 "cells": [
  {
   "cell_type": "code",
   "execution_count": 1,
   "metadata": {},
   "outputs": [],
   "source": [
    "# Python Script 3: Digestion\n",
    "# 1) Register 96 new samples\n",
    "# 2) Register 1 Digested Peptides Plate map\n",
    "\n",
    "\n",
    "import pandas as pd\n",
    "import requests\n",
    "import json\n",
    "from datetime import date\n",
    "import numpy as np\n",
    "\n",
    "\n",
    "# hardcoded variables\n",
    "\n",
    "VOL = 170\n",
    "SPIKE_STD = \"None\"\n",
    "SPIKE_AMOUNT = \n",
    "SPIKE_LOT =\n",
    "DIGEST_PROTOCOL_ID = \"PR005-V1\"\n",
    "PREP_BY = \"Julia Robbins\"\n",
    "\n",
    "#PLATE_BARCODE = \n",
    "#PLATE_NAME = \n",
    "#WELL_POSITION = "
   ]
  },
  {
   "cell_type": "code",
   "execution_count": null,
   "metadata": {},
   "outputs": [],
   "source": [
    "def peptide_digest_rows(name):\n",
    "    rows = [\n",
    "    \"AUTOMATIC\", # Registry ID - don't do anything with   Registry ID,\n",
    "    name, # Name (temporary field)                   Name,\n",
    "    VOL, # Volume (uL)                               Volume (uL),\n",
    "    \"\", # Protein Input (ug)                         Protein Input (ug),\n",
    "    SPIKE_STD, # Spike-In Standard                   Spike-In Standard,\n",
    "    \"\", # Spike-In Amount (ng)                       Spike-In Amount (ng)\n",
    "    \"\", # Spike-In Lot ID                            Spike-In Lot ID \n",
    "    DIGEST_PROTOCOL_ID, # Digest Protocol ID         Digest Protocol ID,\n",
    "    PREP_BY, # Prepared By                           Prepared By,\n",
    "    str(date.today()), # Preparation Date            Preparation Date,\n",
    "    \"\", # Record Creator                             Record Creator,\n",
    "    \"\"# Storage Location                            Storage Location\n",
    "    ]\n",
    "\n",
    "    return rows"
   ]
  },
  {
   "cell_type": "markdown",
   "metadata": {},
   "source": []
  }
 ],
 "metadata": {
  "kernelspec": {
   "display_name": "Python 3",
   "language": "python",
   "name": "python3"
  },
  "language_info": {
   "codemirror_mode": {
    "name": "ipython",
    "version": 3
   },
   "file_extension": ".py",
   "mimetype": "text/x-python",
   "name": "python",
   "nbconvert_exporter": "python",
   "pygments_lexer": "ipython3",
   "version": "3.7.6"
  }
 },
 "nbformat": 4,
 "nbformat_minor": 4
}
