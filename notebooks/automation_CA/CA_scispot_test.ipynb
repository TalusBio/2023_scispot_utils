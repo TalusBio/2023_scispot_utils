{
 "cells": [
  {
   "cell_type": "code",
   "execution_count": 2,
   "metadata": {},
   "outputs": [],
   "source": [
    "import pandas as pd\n",
    "import requests\n",
    "import json\n",
    "import sys\n",
    "\n",
    "API_KEY = 'KEY'"
   ]
  },
  {
   "cell_type": "code",
   "execution_count": 3,
   "metadata": {},
   "outputs": [],
   "source": [
    "def json_to_pd_df(json):\n",
    "    df_out = pd.DataFrame(data=json['rows'])\n",
    "    df_out.columns = list(json['headers'])\n",
    "    return df_out"
   ]
  },
  {
   "cell_type": "code",
   "execution_count": 6,
   "metadata": {},
   "outputs": [],
   "source": [
    "def get_labsheet_rows(manager, filters):\n",
    "    session = requests.Session()\n",
    "    api_call = 'https://api.scispot.io/v2/labsheets/list-rows'\n",
    "    payload = {\n",
    "        \"apiKey\": API_KEY,\n",
    "        \"manager\": manager,\n",
    "        \"pageSize\": \"20\",\n",
    "        \"page\": \"1\",\n",
    "        \"filterBy\": filters\n",
    "    }\n",
    "    ret = session.post(api_call, json=payload)\n",
    "    return json.loads(ret.text)"
   ]
  },
  {
   "cell_type": "code",
   "execution_count": 7,
   "metadata": {
    "scrolled": true
   },
   "outputs": [
    {
     "data": {
      "text/plain": [
       "{'headers': ['UUID',\n",
       "  'Registry ID',\n",
       "  'Name (temporary field)',\n",
       "  'Source',\n",
       "  'Restricted Use',\n",
       "  'Internal Aliases',\n",
       "  'External Compound Name',\n",
       "  'CAS Registry Number',\n",
       "  'Covalent',\n",
       "  'Reactive Target Residue',\n",
       "  'Molecular Weight',\n",
       "  'Covalent Adduct Molecular Weight',\n",
       "  'Solubility (mg/ml)',\n",
       "  'Molecular Formula',\n",
       "  'SMILES',\n",
       "  'Structure Image',\n",
       "  'Aliquot Count',\n",
       "  'Record Creator'],\n",
       " 'rows': [],\n",
       " 'success': 'true'}"
      ]
     },
     "execution_count": 7,
     "metadata": {},
     "output_type": "execute_result"
    }
   ],
   "source": [
    "get_labsheet_rows(\"Compound\", [{'column': \"Registry ID\", 'value': \"TAL501\"}])\n",
    "# json_to_pd_df(rows)"
   ]
  },
  {
   "cell_type": "code",
   "execution_count": 5,
   "metadata": {},
   "outputs": [],
   "source": [
    "def update_row_by_id(manager, rows):\n",
    "    session = requests.Session()\n",
    "    api_call = 'https://api.scispot.io/v2/labsheets/update-rows-by-id'\n",
    "    payload = {\n",
    "        \"apiKey\": API_KEY,\n",
    "        \"manager\": manager,\n",
    "        \"rows\": rows\n",
    "    }\n",
    "    ret = session.post(api_call, json=payload)\n",
    "    return json.loads(ret.text)"
   ]
  },
  {
   "cell_type": "code",
   "execution_count": 6,
   "metadata": {},
   "outputs": [
    {
     "data": {
      "text/plain": [
       "[{'success': 'false',\n",
       "  'message': 'Value of ID column not provided, ID Column is: Library Name'}]"
      ]
     },
     "execution_count": 6,
     "metadata": {},
     "output_type": "execute_result"
    }
   ],
   "source": [
    "update_row_by_id(\"Compound Library\", [{\"Registry ID\": \"LIB1\"}])"
   ]
  },
  {
   "cell_type": "code",
   "execution_count": 7,
   "metadata": {},
   "outputs": [],
   "source": [
    "def update_row_by_column_type(manager, rows):\n",
    "    session = requests.Session()\n",
    "    api_call = 'https://api.scispot.io/v2/labsheets/update-rows-by-column-type'\n",
    "    payload = {\n",
    "        \"apiKey\": API_KEY,\n",
    "        \"manager\": manager,\n",
    "        \"columnType\": \"Barcode\",\n",
    "        \"rows\": rows\n",
    "    }\n",
    "    ret = session.post(api_call, json=payload)\n",
    "    return json.loads(ret.text)"
   ]
  },
  {
   "cell_type": "code",
   "execution_count": 8,
   "metadata": {},
   "outputs": [
    {
     "data": {
      "text/plain": [
       "{'success': 'false', 'message': 'Val for inputted column type not found'}"
      ]
     },
     "execution_count": 8,
     "metadata": {},
     "output_type": "execute_result"
    }
   ],
   "source": [
    "update_row_by_column_type(\"Compound\", [{\"Registry ID\": \"TAL501\"}])"
   ]
  },
  {
   "cell_type": "code",
   "execution_count": 9,
   "metadata": {},
   "outputs": [],
   "source": [
    "def find_row_by_id(manager, sample_id):\n",
    "    session = requests.Session()\n",
    "    url = \"https://api.scispot.io/tryingtofixcors/labsheets/find-row-by-id\"\n",
    "    payload = {\n",
    "        \"apiKey\": API_KEY,\n",
    "        \"labsheet\": manager,\n",
    "        \"id\": sample_id\n",
    "    }\n",
    "    ret = session.post(url, json=payload)\n",
    "    return json.loads(ret.text)"
   ]
  },
  {
   "cell_type": "code",
   "execution_count": 10,
   "metadata": {},
   "outputs": [
    {
     "data": {
      "text/plain": [
       "{'rows': [],\n",
       " 'headers': ['UUID',\n",
       "  'Registry ID',\n",
       "  'Name (temporary field)',\n",
       "  'Source',\n",
       "  'Restricted Use',\n",
       "  'Internal Aliases',\n",
       "  'External Compound Name',\n",
       "  'CAS Registry Number',\n",
       "  'Covalent',\n",
       "  'Reactive Target Residue',\n",
       "  'Molecular Weight',\n",
       "  'Covalent Adduct Molecular Weight',\n",
       "  'Solubility (mg/ml)',\n",
       "  'Molecular Formula',\n",
       "  'SMILES',\n",
       "  'Structure Image',\n",
       "  'Aliquot Count',\n",
       "  'Record Creator'],\n",
       " 'success': True}"
      ]
     },
     "execution_count": 10,
     "metadata": {},
     "output_type": "execute_result"
    }
   ],
   "source": [
    "find_row_by_id(\"Compound\", \"TAL501\")"
   ]
  },
  {
   "cell_type": "code",
   "execution_count": null,
   "metadata": {},
   "outputs": [],
   "source": []
  },
  {
   "cell_type": "code",
   "execution_count": null,
   "metadata": {},
   "outputs": [],
   "source": []
  }
 ],
 "metadata": {
  "kernelspec": {
   "display_name": "Python 3 (ipykernel)",
   "language": "python",
   "name": "python3"
  },
  "language_info": {
   "codemirror_mode": {
    "name": "ipython",
    "version": 3
   },
   "file_extension": ".py",
   "mimetype": "text/x-python",
   "name": "python",
   "nbconvert_exporter": "python",
   "pygments_lexer": "ipython3",
   "version": "3.10.0"
  }
 },
 "nbformat": 4,
 "nbformat_minor": 4
}
