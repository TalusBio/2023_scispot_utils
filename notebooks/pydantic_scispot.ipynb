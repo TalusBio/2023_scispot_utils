{
 "cells": [
  {
   "cell_type": "code",
   "execution_count": 1,
   "metadata": {},
   "outputs": [],
   "source": [
    "from src.wrapper import Labsheet\n",
    "from dotenv import load_dotenv\n",
    "import os\n",
    "\n",
    "# File in the same directory as this notebook\n",
    "# notebooks/.testenv.env\n",
    "# content is like:\n",
    "# SCISPOT_KEY=xxxxxxxxxxxxxxxxxxxxxxxxxxxxxxxxxxxxxxxxxx\n",
    "load_dotenv(\"./.testenv.env\")\n",
    "\n",
    "ls = Labsheet(\n",
    "    name=\"Cell Culture\",\n",
    "    api_key=os.environ.get(\"SCISPOT_KEY\"),\n",
    "    verbose=True,\n",
    "    base=\"prod\",\n",
    ")"
   ]
  },
  {
   "cell_type": "code",
   "execution_count": 2,
   "metadata": {},
   "outputs": [
    {
     "name": "stdout",
     "output_type": "stream",
     "text": [
      "https://api.scispot.io/v2/labsheets/list-rows\n",
      "{\n",
      "    \"pageSize\": 2,\n",
      "    \"page\": 2,\n",
      "    \"apiKey\": \"************************************\",\n",
      "    \"manager\": \"Cell Culture\",\n",
      "    \"labsheet\": \"Cell Culture\"\n",
      "}\n",
      "successfully listed rows.\n"
     ]
    }
   ],
   "source": [
    "response = ls.list_rows(2, 2)"
   ]
  },
  {
   "cell_type": "code",
   "execution_count": 8,
   "metadata": {},
   "outputs": [
    {
     "data": {
      "text/plain": [
       "[CellCulture(uuid='b543a089-dee2-42f0-a750-91effe49841c', record_created='', registry_id='CUL1102', cell_type='THP-1', name='TEST_CULTURE_cmpd4_rep1_DELETE', culture_state='', stock_type='', mycoplasma_test='', passage='', supplier='', supplier_batch_id='', received_date='', parent_culture='', seeding_cell_viability='', number_of_cells_seeded='100000', volume='1', experiment_condition='', treatment_compound_stock_id='', treatment_dose='10', treatment_dose_unit='', child_cultures='', freezing_media='', freezing_protocol_id='', culture_protocol_id='', treatment_protocol_id='', prepared_by='Yang Gao', preparation_date='07/24/2023', storage_location='', record_creator=''),\n",
       " CellCulture(uuid='2c2b100c-1fbb-49ad-a9ca-64b9778a33a5', record_created='', registry_id='CUL1104', cell_type='THP-1', name='_DELETE', culture_state='', stock_type='', mycoplasma_test='', passage='', supplier='', supplier_batch_id='', received_date='', parent_culture='', seeding_cell_viability='', number_of_cells_seeded='100000', volume='1', experiment_condition='', treatment_compound_stock_id='', treatment_dose='10', treatment_dose_unit='', child_cultures='', freezing_media='', freezing_protocol_id='', culture_protocol_id='', treatment_protocol_id='', prepared_by='Yang Gao', preparation_date='07/24/2023', storage_location='', record_creator='')]"
      ]
     },
     "execution_count": 8,
     "metadata": {},
     "output_type": "execute_result"
    }
   ],
   "source": [
    "from src.scispot_entities.cellline import CellCulture\n",
    "\n",
    "ccs = CellCulture.from_response(response)\n",
    "ccs"
   ]
  },
  {
   "cell_type": "code",
   "execution_count": 10,
   "metadata": {},
   "outputs": [
    {
     "data": {
      "text/plain": [
       "{'UUID': 'b543a089-dee2-42f0-a750-91effe49841c',\n",
       " 'Record Created': '',\n",
       " 'Registry ID': 'CUL1102',\n",
       " 'Cell Type': 'THP-1',\n",
       " 'Name': 'TEST_CULTURE_cmpd4_rep1_DELETE',\n",
       " 'Culture State': '',\n",
       " 'Stock Type': '',\n",
       " 'Mycoplasma Test': '',\n",
       " 'Passage': '',\n",
       " 'Supplier': '',\n",
       " 'Supplier Batch ID': '',\n",
       " 'Received Date': '',\n",
       " 'Parent Culture': '',\n",
       " 'Seeding Cell Viability': '',\n",
       " 'Number of Cells Seeded': '100000',\n",
       " 'Volume (mL)': '1',\n",
       " 'Experiment Condition': '',\n",
       " 'Treatment Compound Stock ID': '',\n",
       " 'Treatment Dose': '10',\n",
       " 'Treatment Dose Unit': '',\n",
       " 'Child Cultures': '',\n",
       " 'Freezing Media': '',\n",
       " 'Freezing Protocol ID': '',\n",
       " 'Culture Protocol ID': '',\n",
       " 'Treatment Protocol ID': '',\n",
       " 'Prepared By': 'Yang Gao',\n",
       " 'Preparation Date': '07/24/2023',\n",
       " 'Storage Location': '',\n",
       " 'Record Creator': ''}"
      ]
     },
     "execution_count": 10,
     "metadata": {},
     "output_type": "execute_result"
    }
   ],
   "source": [
    "ccs[0].model_dump(by_alias=True)"
   ]
  },
  {
   "cell_type": "code",
   "execution_count": 4,
   "metadata": {},
   "outputs": [
    {
     "name": "stdout",
     "output_type": "stream",
     "text": [
      "https://api.scispot.io/v2/labsheets/find-row\n",
      "{\n",
      "    \"uuid\": \"b543a089-dee2-42f0-a750-91effe49841c\",\n",
      "    \"apiKey\": \"************************************\",\n",
      "    \"manager\": \"Cell Culture\",\n",
      "    \"labsheet\": \"Cell Culture\"\n",
      "}\n",
      "successfully found row.\n"
     ]
    },
    {
     "data": {
      "text/plain": [
       "{'headers': [Ellipsis], 'row': [Ellipsis], 'success': 'true'}"
      ]
     },
     "execution_count": 4,
     "metadata": {},
     "output_type": "execute_result"
    }
   ],
   "source": [
    "ls.find_row(\"b543a089-dee2-42f0-a750-91effe49841c\", id_type=\"uuid\")\n",
    "\n",
    "{\"headers\": [...], \"row\": [...], \"success\": \"true\"}"
   ]
  },
  {
   "cell_type": "code",
   "execution_count": 5,
   "metadata": {},
   "outputs": [
    {
     "name": "stdout",
     "output_type": "stream",
     "text": [
      "https://api.scispot.io/v2/labsheets/find-row-by-id\n",
      "{\n",
      "    \"id\": \"1102\",\n",
      "    \"idType\": \"ID_BARCODE\",\n",
      "    \"apiKey\": \"************************************\",\n",
      "    \"manager\": \"Cell Culture\",\n",
      "    \"labsheet\": \"Cell Culture\"\n",
      "}\n",
      "successfully found row.\n"
     ]
    },
    {
     "data": {
      "text/plain": [
       "{'rows': [[Ellipsis]], 'headers': [Ellipsis], 'success': True}"
      ]
     },
     "execution_count": 5,
     "metadata": {},
     "output_type": "execute_result"
    }
   ],
   "source": [
    "ls.find_row(\"1102\", id_type=\"barcode\")\n",
    "{\"rows\": [[...]], \"headers\": [...], \"success\": True}"
   ]
  },
  {
   "cell_type": "code",
   "execution_count": 6,
   "metadata": {},
   "outputs": [],
   "source": [
    "## This does not work...\n",
    "# ls.update_parent(\n",
    "#     child_id=\"1104\", parent_id=\"1102\", parent_labsheet=\"Cell Culture\"\n",
    "# )"
   ]
  },
  {
   "cell_type": "code",
   "execution_count": 7,
   "metadata": {},
   "outputs": [
    {
     "name": "stdout",
     "output_type": "stream",
     "text": [
      "https://api.scispot.io/v2/labsheets/find-row-by-id\n",
      "{\n",
      "    \"id\": \"1\",\n",
      "    \"idType\": \"ID_BARCODE\",\n",
      "    \"apiKey\": \"************************************\",\n",
      "    \"manager\": \"MS Column\",\n",
      "    \"labsheet\": \"MS Column\"\n",
      "}\n",
      "successfully found row.\n",
      ">>> Found column uuid => 6c4861e6-c314-4548-8324-193869f8c445\n",
      "https://api.scispot.io/v2/labsheets/update-rows-by-id\n",
      "{\n",
      "    \"rows\": [\n",
      "        {\n",
      "            \"Registry ID\": \"98\",\n",
      "            \"Column ID\": \"6c4861e6-c314-4548-8324-193869f8c445\"\n",
      "        }\n",
      "    ],\n",
      "    \"apiKey\": \"************************************\",\n",
      "    \"manager\": \"MS Run\",\n",
      "    \"labsheet\": \"MS Run\"\n",
      "}\n"
     ]
    },
    {
     "ename": "APIException",
     "evalue": "An error occured: \nRequest: /labsheets/update-rows-by-id\n{\n    \"rows\": [\n        {\n            \"Registry ID\": \"98\",\n            \"Column ID\": \"6c4861e6-c314-4548-8324-193869f8c445\"\n        }\n    ],\n    \"apiKey\": \"af980ba0-d61b-4c4b-9b02-68e46a2585d2\",\n    \"manager\": \"MS Run\",\n    \"labsheet\": \"MS Run\"\n}\nResponse: [\n    {\n        \"ID\": \"98\",\n        \"updatedRows\": [\n            {\n                \"uuid\": \"50738ad7-c7e0-44da-9a29-3c0dec898075\",\n                \"success\": \"false\",\n                \"message\": \"the connection UUID PDG97 is invalid\"\n            }\n        ]\n    }\n]\n",
     "output_type": "error",
     "traceback": [
      "\u001b[0;31m---------------------------------------------------------------------------\u001b[0m",
      "\u001b[0;31mAPIException\u001b[0m                              Traceback (most recent call last)",
      "\u001b[1;32m/Users/sebastianpaez/git/2023_scispot_utils/notebooks/pydantic_scispot.ipynb Cell 7\u001b[0m line \u001b[0;36m2\n\u001b[1;32m     <a href='vscode-notebook-cell:/Users/sebastianpaez/git/2023_scispot_utils/notebooks/pydantic_scispot.ipynb#X13sZmlsZQ%3D%3D?line=19'>20</a>\u001b[0m column_uuid \u001b[39m=\u001b[39m ls_msc\u001b[39m.\u001b[39mfind_row(\u001b[39m\"\u001b[39m\u001b[39m1\u001b[39m\u001b[39m\"\u001b[39m, id_type\u001b[39m=\u001b[39m\u001b[39m\"\u001b[39m\u001b[39mbarcode\u001b[39m\u001b[39m\"\u001b[39m)[\u001b[39m\"\u001b[39m\u001b[39mrows\u001b[39m\u001b[39m\"\u001b[39m][\u001b[39m0\u001b[39m][\u001b[39m0\u001b[39m]\n\u001b[1;32m     <a href='vscode-notebook-cell:/Users/sebastianpaez/git/2023_scispot_utils/notebooks/pydantic_scispot.ipynb#X13sZmlsZQ%3D%3D?line=20'>21</a>\u001b[0m \u001b[39mprint\u001b[39m(\u001b[39mf\u001b[39m\u001b[39m\"\u001b[39m\u001b[39m>>> Found column uuid => \u001b[39m\u001b[39m{\u001b[39;00mcolumn_uuid\u001b[39m}\u001b[39;00m\u001b[39m\"\u001b[39m)\n\u001b[0;32m---> <a href='vscode-notebook-cell:/Users/sebastianpaez/git/2023_scispot_utils/notebooks/pydantic_scispot.ipynb#X13sZmlsZQ%3D%3D?line=21'>22</a>\u001b[0m ls_msr\u001b[39m.\u001b[39;49mupdate_rows_by_id(\n\u001b[1;32m     <a href='vscode-notebook-cell:/Users/sebastianpaez/git/2023_scispot_utils/notebooks/pydantic_scispot.ipynb#X13sZmlsZQ%3D%3D?line=22'>23</a>\u001b[0m     rows\u001b[39m=\u001b[39;49m[\n\u001b[1;32m     <a href='vscode-notebook-cell:/Users/sebastianpaez/git/2023_scispot_utils/notebooks/pydantic_scispot.ipynb#X13sZmlsZQ%3D%3D?line=23'>24</a>\u001b[0m         {\n\u001b[1;32m     <a href='vscode-notebook-cell:/Users/sebastianpaez/git/2023_scispot_utils/notebooks/pydantic_scispot.ipynb#X13sZmlsZQ%3D%3D?line=24'>25</a>\u001b[0m             \u001b[39m\"\u001b[39;49m\u001b[39mRegistry ID\u001b[39;49m\u001b[39m\"\u001b[39;49m: \u001b[39m\"\u001b[39;49m\u001b[39m98\u001b[39;49m\u001b[39m\"\u001b[39;49m,\n\u001b[1;32m     <a href='vscode-notebook-cell:/Users/sebastianpaez/git/2023_scispot_utils/notebooks/pydantic_scispot.ipynb#X13sZmlsZQ%3D%3D?line=25'>26</a>\u001b[0m             \u001b[39m\"\u001b[39;49m\u001b[39mColumn ID\u001b[39;49m\u001b[39m\"\u001b[39;49m: column_uuid,\n\u001b[1;32m     <a href='vscode-notebook-cell:/Users/sebastianpaez/git/2023_scispot_utils/notebooks/pydantic_scispot.ipynb#X13sZmlsZQ%3D%3D?line=26'>27</a>\u001b[0m         }\n\u001b[1;32m     <a href='vscode-notebook-cell:/Users/sebastianpaez/git/2023_scispot_utils/notebooks/pydantic_scispot.ipynb#X13sZmlsZQ%3D%3D?line=27'>28</a>\u001b[0m     ]\n\u001b[1;32m     <a href='vscode-notebook-cell:/Users/sebastianpaez/git/2023_scispot_utils/notebooks/pydantic_scispot.ipynb#X13sZmlsZQ%3D%3D?line=28'>29</a>\u001b[0m )\n",
      "File \u001b[0;32m~/git/2023_scispot_utils/src/wrapper.py:189\u001b[0m, in \u001b[0;36mLabsheet.update_rows_by_id\u001b[0;34m(self, rows)\u001b[0m\n\u001b[1;32m    187\u001b[0m payload \u001b[39m=\u001b[39m {\u001b[39m\"\u001b[39m\u001b[39mrows\u001b[39m\u001b[39m\"\u001b[39m: rows}\n\u001b[1;32m    188\u001b[0m res \u001b[39m=\u001b[39m \u001b[39mself\u001b[39m\u001b[39m.\u001b[39mmake_request(\u001b[39mself\u001b[39m\u001b[39m.\u001b[39mUPDATE_ROWS_BY_ID, payload)\n\u001b[0;32m--> 189\u001b[0m \u001b[39mself\u001b[39;49m\u001b[39m.\u001b[39;49merror_check(res, payload, \u001b[39mself\u001b[39;49m\u001b[39m.\u001b[39;49mUPDATE_ROWS_BY_ID)\n\u001b[1;32m    190\u001b[0m \u001b[39mprint\u001b[39m(\u001b[39m\"\u001b[39m\u001b[39msuccessfully updated rows.\u001b[39m\u001b[39m\"\u001b[39m)\n\u001b[1;32m    191\u001b[0m \u001b[39mreturn\u001b[39;00m res\n",
      "File \u001b[0;32m~/git/2023_scispot_utils/src/wrapper.py:99\u001b[0m, in \u001b[0;36mLabsheet.error_check\u001b[0;34m(self, res, payload, endpoint)\u001b[0m\n\u001b[1;32m     97\u001b[0m \u001b[39mfor\u001b[39;00m row \u001b[39min\u001b[39;00m res:\n\u001b[1;32m     98\u001b[0m     \u001b[39mif\u001b[39;00m \u001b[39m\"\u001b[39m\u001b[39msuccess\u001b[39m\u001b[39m\"\u001b[39m \u001b[39mnot\u001b[39;00m \u001b[39min\u001b[39;00m row:\n\u001b[0;32m---> 99\u001b[0m         \u001b[39mraise\u001b[39;00m APIException(\n\u001b[1;32m    100\u001b[0m             \u001b[39m\"\u001b[39m\u001b[39mAn error occured: \u001b[39m\u001b[39m\"\u001b[39m, endpoint, payload, res\n\u001b[1;32m    101\u001b[0m         )\n\u001b[1;32m    103\u001b[0m     \u001b[39mif\u001b[39;00m row[\u001b[39m\"\u001b[39m\u001b[39msuccess\u001b[39m\u001b[39m\"\u001b[39m] \u001b[39m==\u001b[39m \u001b[39m\"\u001b[39m\u001b[39mfalse\u001b[39m\u001b[39m\"\u001b[39m \u001b[39mor\u001b[39;00m \u001b[39mnot\u001b[39;00m row[\u001b[39m\"\u001b[39m\u001b[39msuccess\u001b[39m\u001b[39m\"\u001b[39m]:\n\u001b[1;32m    104\u001b[0m         \u001b[39mraise\u001b[39;00m APIException(\n\u001b[1;32m    105\u001b[0m             \u001b[39m\"\u001b[39m\u001b[39mAn error occured: \u001b[39m\u001b[39m\"\u001b[39m, endpoint, payload, res\n\u001b[1;32m    106\u001b[0m         )\n",
      "\u001b[0;31mAPIException\u001b[0m: An error occured: \nRequest: /labsheets/update-rows-by-id\n{\n    \"rows\": [\n        {\n            \"Registry ID\": \"98\",\n            \"Column ID\": \"6c4861e6-c314-4548-8324-193869f8c445\"\n        }\n    ],\n    \"apiKey\": \"af980ba0-d61b-4c4b-9b02-68e46a2585d2\",\n    \"manager\": \"MS Run\",\n    \"labsheet\": \"MS Run\"\n}\nResponse: [\n    {\n        \"ID\": \"98\",\n        \"updatedRows\": [\n            {\n                \"uuid\": \"50738ad7-c7e0-44da-9a29-3c0dec898075\",\n                \"success\": \"false\",\n                \"message\": \"the connection UUID PDG97 is invalid\"\n            }\n        ]\n    }\n]\n"
     ]
    }
   ],
   "source": [
    "ls_msr = Labsheet(\n",
    "    name=\"MS Run\",\n",
    "    api_key=os.environ.get(\"SCISPOT_KEY\"),\n",
    "    verbose=True,\n",
    "    base=\"prod\",\n",
    ")\n",
    "\n",
    "ls_msc = Labsheet(\n",
    "    name=\"MS Column\",\n",
    "    api_key=os.environ.get(\"SCISPOT_KEY\"),\n",
    "    verbose=True,\n",
    "    base=\"prod\",\n",
    ")\n",
    "\n",
    "# Example ->\n",
    "# lets add to the ms run sheet on id\n",
    "# MSR98\n",
    "# MSC1 <- column id 2\n",
    "# PDG197 <- protein digest id 197\n",
    "column_uuid = ls_msc.find_row(\"1\", id_type=\"barcode\")[\"rows\"][0][0]\n",
    "print(f\">>> Found column uuid => {column_uuid}\")\n",
    "ls_msr.update_rows_by_id(\n",
    "    rows=[\n",
    "        {\n",
    "            \"Registry ID\": \"98\",\n",
    "            \"Column ID\": column_uuid,\n",
    "        }\n",
    "    ]\n",
    ")\n"
   ]
  }
 ],
 "metadata": {
  "kernelspec": {
   "display_name": "venv",
   "language": "python",
   "name": "python3"
  },
  "language_info": {
   "codemirror_mode": {
    "name": "ipython",
    "version": 3
   },
   "file_extension": ".py",
   "mimetype": "text/x-python",
   "name": "python",
   "nbconvert_exporter": "python",
   "pygments_lexer": "ipython3",
   "version": "3.9.18"
  }
 },
 "nbformat": 4,
 "nbformat_minor": 2
}
