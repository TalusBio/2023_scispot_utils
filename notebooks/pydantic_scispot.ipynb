{
 "cells": [
  {
   "cell_type": "code",
   "execution_count": 1,
   "metadata": {},
   "outputs": [],
   "source": [
    "from src.wrapper import Labsheet\n",
    "from dotenv import load_dotenv\n",
    "import os\n",
    "\n",
    "# File in the same directory as this notebook\n",
    "# notebooks/.testenv.env\n",
    "# content is like:\n",
    "# SCISPOT_KEY=xxxxxxxxxxxxxxxxxxxxxxxxxxxxxxxxxxxxxxxxxx\n",
    "load_dotenv(\"./.testenv.env\")\n",
    "\n",
    "ls = Labsheet(\n",
    "    name=\"Cell Culture\",\n",
    "    api_key=os.environ.get(\"SCISPOT_KEY\"),\n",
    "    verbose=True,\n",
    "    base=\"prod\",\n",
    ")"
   ]
  },
  {
   "cell_type": "code",
   "execution_count": 2,
   "metadata": {},
   "outputs": [
    {
     "name": "stdout",
     "output_type": "stream",
     "text": [
      "https://api.scispot.io/v2/labsheets/list-rows\n",
      "{\n",
      "    \"pageSize\": 2,\n",
      "    \"page\": 2,\n",
      "    \"apiKey\": \"************************************\",\n",
      "    \"manager\": \"Cell Culture\",\n",
      "    \"labsheet\": \"Cell Culture\"\n",
      "}\n",
      "successfully listed rows.\n"
     ]
    }
   ],
   "source": [
    "response = ls.list_rows(2, 2)"
   ]
  },
  {
   "cell_type": "code",
   "execution_count": 3,
   "metadata": {},
   "outputs": [
    {
     "name": "stderr",
     "output_type": "stream",
     "text": [
      "/Users/sebastianpaez/git/2023_scispot_utils/venv/lib/python3.9/site-packages/pydantic/_internal/_config.py:261: UserWarning: Valid config keys have changed in V2:\n",
      "* 'allow_population_by_field_name' has been renamed to 'populate_by_name'\n",
      "  warnings.warn(message, UserWarning)\n"
     ]
    },
    {
     "data": {
      "text/plain": [
       "[CellCulture(uuid='b543a089-dee2-42f0-a750-91effe49841c', record_created='', registry_id='CUL1102', cell_type='THP-1', name='TEST_CULTURE_cmpd4_rep1_DELETE', culture_state='', stock_type='', mycoplasma_test='', passage='', supplier='', supplier_batch_id='', received_date='', parent_culture='', seeding_cell_viability='', number_of_cells_seeded='100000', volume='1', experiment_condition='', treatment_compound_stock_id='', treatment_dose='10', treatment_dose_unit='', child_cultures='', freezing_media='', freezing_protocol_id='', culture_protocol_id='', treatment_protocol_id='', prepared_by='Yang Gao', preparation_date='07/24/2023', storage_location='', record_creator=''),\n",
       " CellCulture(uuid='2c2b100c-1fbb-49ad-a9ca-64b9778a33a5', record_created='', registry_id='CUL1104', cell_type='THP-1', name='_DELETE', culture_state='', stock_type='', mycoplasma_test='', passage='', supplier='', supplier_batch_id='', received_date='', parent_culture='', seeding_cell_viability='', number_of_cells_seeded='100000', volume='1', experiment_condition='', treatment_compound_stock_id='', treatment_dose='10', treatment_dose_unit='', child_cultures='', freezing_media='', freezing_protocol_id='', culture_protocol_id='', treatment_protocol_id='', prepared_by='Yang Gao', preparation_date='07/24/2023', storage_location='', record_creator='')]"
      ]
     },
     "execution_count": 3,
     "metadata": {},
     "output_type": "execute_result"
    }
   ],
   "source": [
    "from src.scispot_entities.cellline import CellCulture\n",
    "\n",
    "ccs = CellCulture.from_response(response)\n",
    "ccs"
   ]
  },
  {
   "cell_type": "code",
   "execution_count": 4,
   "metadata": {},
   "outputs": [
    {
     "data": {
      "text/plain": [
       "{'UUID': 'b543a089-dee2-42f0-a750-91effe49841c',\n",
       " 'Record Created': '',\n",
       " 'Registry ID': 'CUL1102',\n",
       " 'Cell Type': 'THP-1',\n",
       " 'Name': 'TEST_CULTURE_cmpd4_rep1_DELETE',\n",
       " 'Culture State': '',\n",
       " 'Stock Type': '',\n",
       " 'Mycoplasma Test': '',\n",
       " 'Passage': '',\n",
       " 'Supplier': '',\n",
       " 'Supplier Batch ID': '',\n",
       " 'Received Date': '',\n",
       " 'Parent Culture': '',\n",
       " 'Seeding Cell Viability': '',\n",
       " 'Number of Cells Seeded': '100000',\n",
       " 'Volume (mL)': '1',\n",
       " 'Experiment Condition': '',\n",
       " 'Treatment Compound Stock ID': '',\n",
       " 'Treatment Dose': '10',\n",
       " 'Treatment Dose Unit': '',\n",
       " 'Child Cultures': '',\n",
       " 'Freezing Media': '',\n",
       " 'Freezing Protocol ID': '',\n",
       " 'Culture Protocol ID': '',\n",
       " 'Treatment Protocol ID': '',\n",
       " 'Prepared By': 'Yang Gao',\n",
       " 'Preparation Date': '07/24/2023',\n",
       " 'Storage Location': '',\n",
       " 'Record Creator': ''}"
      ]
     },
     "execution_count": 4,
     "metadata": {},
     "output_type": "execute_result"
    }
   ],
   "source": [
    "ccs[0].model_dump(by_alias=True)"
   ]
  },
  {
   "cell_type": "code",
   "execution_count": 5,
   "metadata": {},
   "outputs": [
    {
     "name": "stdout",
     "output_type": "stream",
     "text": [
      "https://api.scispot.io/v2/labsheets/find-row\n",
      "{\n",
      "    \"uuid\": \"b543a089-dee2-42f0-a750-91effe49841c\",\n",
      "    \"apiKey\": \"************************************\",\n",
      "    \"manager\": \"Cell Culture\",\n",
      "    \"labsheet\": \"Cell Culture\"\n",
      "}\n",
      "successfully found row.\n"
     ]
    },
    {
     "data": {
      "text/plain": [
       "{'headers': [Ellipsis], 'row': [Ellipsis], 'success': 'true'}"
      ]
     },
     "execution_count": 5,
     "metadata": {},
     "output_type": "execute_result"
    }
   ],
   "source": [
    "ls.find_row(\"b543a089-dee2-42f0-a750-91effe49841c\", id_type=\"uuid\")\n",
    "\n",
    "{\"headers\": [...], \"row\": [...], \"success\": \"true\"}"
   ]
  },
  {
   "cell_type": "code",
   "execution_count": 6,
   "metadata": {},
   "outputs": [
    {
     "name": "stdout",
     "output_type": "stream",
     "text": [
      "https://api.scispot.io/v2/labsheets/find-row-by-id\n",
      "{\n",
      "    \"id\": \"1102\",\n",
      "    \"idType\": \"ID_BARCODE\",\n",
      "    \"apiKey\": \"************************************\",\n",
      "    \"manager\": \"Cell Culture\",\n",
      "    \"labsheet\": \"Cell Culture\"\n",
      "}\n",
      "successfully found row.\n"
     ]
    },
    {
     "data": {
      "text/plain": [
       "{'rows': [[Ellipsis]], 'headers': [Ellipsis], 'success': True}"
      ]
     },
     "execution_count": 6,
     "metadata": {},
     "output_type": "execute_result"
    }
   ],
   "source": [
    "ls.find_row(\"1102\", id_type=\"barcode\")\n",
    "{\"rows\": [[...]], \"headers\": [...], \"success\": True}"
   ]
  },
  {
   "cell_type": "code",
   "execution_count": 7,
   "metadata": {},
   "outputs": [],
   "source": [
    "## This does not work...\n",
    "# ls.update_parent(\n",
    "#     child_id=\"1104\", parent_id=\"1102\", parent_labsheet=\"Cell Culture\"\n",
    "# )"
   ]
  },
  {
   "cell_type": "code",
   "execution_count": 8,
   "metadata": {},
   "outputs": [
    {
     "name": "stdout",
     "output_type": "stream",
     "text": [
      "https://api.scispot.io/v2/labsheets/find-row-by-id\n",
      "{\n",
      "    \"id\": \"1\",\n",
      "    \"idType\": \"ID_BARCODE\",\n",
      "    \"apiKey\": \"************************************\",\n",
      "    \"manager\": \"MS Column\",\n",
      "    \"labsheet\": \"MS Column\"\n",
      "}\n",
      "successfully found row.\n",
      ">>> Found column uuid => 6c4861e6-c314-4548-8324-193869f8c445\n",
      "https://api.scispot.io/v2/labsheets/update-rows-by-id\n",
      "{\n",
      "    \"rows\": [\n",
      "        {\n",
      "            \"Registry ID\": \"98\",\n",
      "            \"Column ID\": \"6c4861e6-c314-4548-8324-193869f8c445\"\n",
      "        }\n",
      "    ],\n",
      "    \"apiKey\": \"************************************\",\n",
      "    \"manager\": \"MS Run\",\n",
      "    \"labsheet\": \"MS Run\"\n",
      "}\n",
      "successfully updated rows.\n"
     ]
    },
    {
     "data": {
      "text/plain": [
       "[{'ID': '98',\n",
       "  'updatedRows': [{'uuid': '50738ad7-c7e0-44da-9a29-3c0dec898075',\n",
       "    'success': 'true'}]}]"
      ]
     },
     "execution_count": 8,
     "metadata": {},
     "output_type": "execute_result"
    }
   ],
   "source": [
    "ls_msr = Labsheet(\n",
    "    name=\"MS Run\",\n",
    "    api_key=os.environ.get(\"SCISPOT_KEY\"),\n",
    "    verbose=True,\n",
    "    base=\"prod\",\n",
    ")\n",
    "\n",
    "ls_msc = Labsheet(\n",
    "    name=\"MS Column\",\n",
    "    api_key=os.environ.get(\"SCISPOT_KEY\"),\n",
    "    verbose=True,\n",
    "    base=\"prod\",\n",
    ")\n",
    "\n",
    "# Example ->\n",
    "# lets add to the ms run sheet on id\n",
    "# MSR98\n",
    "# MSC1 <- column id 2\n",
    "# PDG197 <- protein digest id 197\n",
    "column_uuid = ls_msc.find_row(\"1\", id_type=\"barcode\")[\"rows\"][0][0]\n",
    "print(f\">>> Found column uuid => {column_uuid}\")\n",
    "ls_msr.update_rows_by_id(\n",
    "    rows=[\n",
    "        {\n",
    "            \"Registry ID\": \"98\",\n",
    "            \"Column ID\": column_uuid,\n",
    "        }\n",
    "    ]\n",
    ")"
   ]
  },
  {
   "cell_type": "code",
   "execution_count": null,
   "metadata": {},
   "outputs": [],
   "source": []
  }
 ],
 "metadata": {
  "kernelspec": {
   "display_name": "venv",
   "language": "python",
   "name": "python3"
  },
  "language_info": {
   "codemirror_mode": {
    "name": "ipython",
    "version": 3
   },
   "file_extension": ".py",
   "mimetype": "text/x-python",
   "name": "python",
   "nbconvert_exporter": "python",
   "pygments_lexer": "ipython3",
   "version": "3.9.18"
  }
 },
 "nbformat": 4,
 "nbformat_minor": 2
}
