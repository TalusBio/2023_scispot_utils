{
 "cells": [
  {
   "cell_type": "code",
   "execution_count": 10,
   "metadata": {},
   "outputs": [
    {
     "name": "stdout",
     "output_type": "stream",
     "text": [
      "Imported required packages"
     ]
    }
   ],
   "source": [
    "## testing CDDVault's API pull for future push into Scispot\n",
    "## lkp 2023/07/17\n",
    "\n",
    "import pandas as pd\n",
    "import requests\n",
    "import json\n",
    "import sys\n",
    "import datetime\n",
    "\n",
    "sys.stdout.write(\"Imported required packages\")\n",
    "\n",
    "api_key_file = 'G:/My Drive/Lindsay Pino/proj/2023_scispot_utils/data/cddvault_api_key2.txt'\n",
    "API_KEY = open(api_key_file, 'r').readlines()[0]\n",
    "#print(API_KEY)"
   ]
  },
  {
   "cell_type": "code",
   "execution_count": 11,
   "metadata": {},
   "outputs": [
    {
     "name": "stdout",
     "output_type": "stream",
     "text": [
      "<Response [401]>\n",
      "{'error': 'key not authorized for access to this vault', 'code': 401}\n"
     ]
    }
   ],
   "source": [
    "# API documentation\n",
    "## https://support.collaborativedrug.com/hc/en-us/categories/115001259423-API-Documentation\n",
    "\n",
    "import requests\n",
    "\n",
    "molecule = 'TB-0000001'\n",
    "\n",
    "base_url = \"https://app.collaborativedrug.com/api/v1/vaults/Talus Bio Sandbox/\" # Talus vault? 7476?\n",
    "headers = {'X-CDD-token': API_KEY}\n",
    "url = base_url + \"molecules/TB-0000001\"\n",
    "\n",
    "response = requests.request(\"GET\", url, headers=headers)\n",
    "\n",
    "#to view the status, use:\n",
    "print(response)\n",
    "\n",
    "#to view the detailed JSON return content:\n",
    "print(response.json())"
   ]
  },
  {
   "cell_type": "markdown",
   "metadata": {},
   "source": [
    "Seems like there's an issue, need help troubleshooting if it's me or if the API key is restricted?"
   ]
  }
 ],
 "metadata": {
  "kernelspec": {
   "display_name": "Python 3",
   "language": "python",
   "name": "python3"
  },
  "language_info": {
   "codemirror_mode": {
    "name": "ipython",
    "version": 3
   },
   "file_extension": ".py",
   "mimetype": "text/x-python",
   "name": "python",
   "nbconvert_exporter": "python",
   "pygments_lexer": "ipython3",
   "version": "3.7.4"
  }
 },
 "nbformat": 4,
 "nbformat_minor": 4
}
