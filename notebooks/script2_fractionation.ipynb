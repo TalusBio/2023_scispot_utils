{
 "cells": [
  {
   "cell_type": "code",
   "execution_count": 1,
   "metadata": {},
   "outputs": [],
   "source": [
    "# Python Script 2: Fractionation\n",
    "# 1) Register 288 new samples\n",
    "# 2) Register 3 Fraction Plate maps\n",
    "\n",
    "import pandas as pd\n",
    "import requests\n",
    "import json\n",
    "from datetime import date\n",
    "import numpy as np\n",
    "\n",
    "\n",
    "# hardcoded variables\n",
    "\n",
    "CELLULAR_FRACTION = ['Nucleoplasm', 'Chromatin', 'Insoluble'] # iterate through each to get the full 3x fractionation\n",
    "TX_TIME = 4\n",
    "TX_TIME_UNIT = \"hours\"\n",
    "VOL = 125\n",
    "HARVEST_PROTOCOL_ID = \"PR003-V1\"\n",
    "FRX_PROTOCOL_ID = \"PR004-V1\"\n",
    "PREP_BY = \"Bodhi Hueffmeier\"\n",
    "\n",
    "#PLATE_BARCODE = \n",
    "#PLATE_NAME = \n",
    "#WELL_POSITION = "
   ]
  },
  {
   "cell_type": "code",
   "execution_count": null,
   "metadata": {},
   "outputs": [],
   "source": [
    "# 1) Register 288 new samples\n",
    "# i.e. 3x 96 samples\n",
    "\n",
    "def cell_fraction_rows(name, cell_frx):\n",
    "    rows = [\n",
    "    \"AUTOMATIC\", # Registry ID - don't do anything with   Registry ID,\n",
    "    name, # Name (temporary field)                   Name,\n",
    "    cell_frx, # Cellular Fraction\n",
    "    TX_TIME, # Post-Treatment Time Point             Post-Treatment Time Point,\n",
    "    TX_TIME_UNIT, # Time Point Unit                  Time Point Unit\n",
    "    VOL, # Volume (uL)                               Volume (uL),\n",
    "    \"\", # Protein Concentration (ug/uL)              Protein Concentration (ug/uL),\n",
    "    HARVEST_PROTOCOL_ID, # Harvest Protocol ID       Harvest Protocol ID,\n",
    "    FRX_PROTOCOL_ID, # Fractionation Protocol ID     Fractionation Protocol ID,\n",
    "    PREP_BY, # Prepared By                           Prepared By,\n",
    "    str(date.today()), # Preparation Date            Preparation Date,\n",
    "    \"\", # Record Creator                             Record Creator,\n",
    "    \"\" # Storage Location                           Storage Location\n",
    "    #PLATE_BARCODE, # Plate Barcode                   Plate Barcode\n",
    "    #PLATE_NAME, # Plate Name\n",
    "    #WELL_POSITION # Well Position\n",
    "    ]\n",
    "\n",
    "    return rows"
   ]
  },
  {
   "cell_type": "markdown",
   "metadata": {},
   "source": [
    "* how should we handle the \"extra\" plate-location information? "
   ]
  }
 ],
 "metadata": {
  "kernelspec": {
   "display_name": "Python 3",
   "language": "python",
   "name": "python3"
  },
  "language_info": {
   "codemirror_mode": {
    "name": "ipython",
    "version": 3
   },
   "file_extension": ".py",
   "mimetype": "text/x-python",
   "name": "python",
   "nbconvert_exporter": "python",
   "pygments_lexer": "ipython3",
   "version": "3.7.6"
  }
 },
 "nbformat": 4,
 "nbformat_minor": 4
}
