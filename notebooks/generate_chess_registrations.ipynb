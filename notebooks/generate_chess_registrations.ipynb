{
 "cells": [
  {
   "cell_type": "markdown",
   "metadata": {},
   "source": [
    "# Jupyter notebook in Scispot\n",
    "\n",
    "- Scispot --> LabSheets --> Jupyter --> +New --> write script/notebook\n",
    "  - ~~need jupyterhub server credentials?~~\n",
    "\n",
    "- ? can I look up a UUID by sample name?\n",
    "  - update-by-id to fetch UUID from Sample ID\n",
    "- ? can I look up UUIDs by manifest name?\n",
    "  - not yet! \n",
    "- ? can I specify other \"variable\" inputs/params? or can scientist edit the ipynb with those values?\n",
    "  - A: yes, can code input parameters \n",
    "  - ? can I read in other sheets into pandas?\n",
    "    - ~~nm don't worry about this for now...~~ done, see below\n",
    "\n",
    "\n",
    "### tips\n",
    "- update-by-id to fetch UUID from Sample ID \n",
    "- https://www.loom.com/share/32c01c2cb1294720b15596b0a43af5e9\n",
    "\n",
    "### notes \n",
    "- Sample IDs from 96-well manifest export → Protein Manager registrations\n",
    "- Protein Manager registrations completed for following Sample manifests:\n",
    "  - ChESS_dbgen1_plate1\n",
    "  - ChESS_dbgen1_202212_plate1rep2 \n",
    "  - ChESS_dbgen1_202212_plate1rep3\n",
    "  - ... how to stage these in the future? LC-MS queue?\n",
    "\n",
    "### todo\n",
    "- Parent-Sample and Child-Protein UUID links need to be updated for historical Benchling protein manager entries\n",
    "- Related, Update programmatic entries with child linkages (i.e. update Sample Manager entries with Child links?)\n",
    "- Feature “Request”: Protein Manager > Peptide Manager \n",
    "- uuids that generated from buggy add_entry to protein manager:\n",
    "  - 0344a99d-888a-443e-9a23-13eceb279ae1 - Sample Manager and Protein Manager and Peptide Manager and ...??\n",
    "  - 90b19820-726d-4086-b74a-199d37899ea5 - Sample Manager and Protein Manager and Peptide Manager and ...??\n",
    "  - 98f8e123-84ab-4171-b26e-6c3c0ad6ecf3 - Sample Manager and Protein Manager and Peptide Manager and ...??\n",
    "  - f83d6043-0901-4362-bef9-324987e06451 - doesn't exist\n",
    "  - 485546de-f451-46cd-afbb-7bad60e998d5\n",
    "  - e4695003-2074-458c-8080-9a659bc208c5\n",
    "- Pull a plate of samples with some manifest name/location from API? (not yet, per satya)\n"
   ]
  },
  {
   "cell_type": "code",
   "execution_count": 1,
   "metadata": {},
   "outputs": [
    {
     "name": "stdout",
     "output_type": "stream",
     "text": [
      "Imported required packages"
     ]
    }
   ],
   "source": [
    "## script to generate Scispot registrations for ChESS 96-well plate\n",
    "## lkp 2022/11/15\n",
    "\n",
    "import pandas as pd\n",
    "import requests\n",
    "import json\n",
    "import sys\n",
    "import datetime\n",
    "\n",
    "sys.stdout.write(\"Imported required packages\")\n",
    "\n",
    "api_key_file = 'G:/My Drive/Lindsay Pino/proj/2023_scispot_utils/data/scispot_api_key.txt'\n",
    "API_KEY = open(api_key_file, 'r').readlines()[0]\n",
    "#print(API_KEY)"
   ]
  },
  {
   "cell_type": "code",
   "execution_count": 3,
   "metadata": {},
   "outputs": [
    {
     "name": "stdout",
     "output_type": "stream",
     "text": [
      "Imported required functions"
     ]
    }
   ],
   "source": [
    "## functions\n",
    "\n",
    "# lookup an entry by UUID\n",
    "def find_entry_from_uuid(manager, uuid_list):\n",
    "    session = requests.Session()\n",
    "    url = \"https://api.scispot.io/tryingtofixcors/labsheets/find-row\"\n",
    "    payload = {\n",
    "        \"apiKey\": API_KEY,\n",
    "        \"manager\": manager,\n",
    "        \"uuid\": uuid_list\n",
    "    }\n",
    "    ret = session.post(url, json=payload)\n",
    "    return json.loads(ret.text)\n",
    "\n",
    "# turn json Scispot return into a pandas df\n",
    "def json_to_pd_df(json_in):\n",
    "    df_out = pd.DataFrame(data=json_in['row']).T\n",
    "    df_out.columns = list(json_in['headers'])\n",
    "    return df_out\n",
    "\n",
    "# fetch any row from the Protein Manager to get the columns\n",
    "def fetch_random_entry():\n",
    "    session = requests.Session()\n",
    "    url = \"https://api.scispot.io/tryingtofixcors/labsheets/list-rows\"\n",
    "    payload = {\n",
    "        \"apiKey\": API_KEY,\n",
    "        \"manager\": \"Sample Manager\",\n",
    "        \"pageSize\": \"1\",\n",
    "        \"page\": \"1\"\n",
    "    }\n",
    "    ret = session.post(url, json=payload)\n",
    "    return json.loads(ret.text)\n",
    "\n",
    "# fetch a Scispot entry based on the Sample ID\n",
    "def fetch_entry_from_id(manager, sample_id):\n",
    "    session = requests.Session()\n",
    "    url = \"https://api.scispot.io/tryingtofixcors/labsheets/find-row-by-id\"\n",
    "    payload = {\n",
    "        \"apiKey\": API_KEY,\n",
    "        \"labsheet\": manager,\n",
    "        \"id\": sample_id\n",
    "    }\n",
    "    ret = session.post(url, json=payload)\n",
    "    return json.loads(ret.text)\n",
    "\n",
    "sys.stdout.write(\"Imported required functions\")"
   ]
  },
  {
   "cell_type": "code",
   "execution_count": null,
   "metadata": {
    "scrolled": true
   },
   "outputs": [],
   "source": [
    "## examples\n",
    "\n",
    "# look up an entry based on UUID\n",
    "test_uuid = \"0344a99d-888a-443e-9a23-13eceb279ae1\"\n",
    "find_entry_from_uuid('Sample Manager', test_uuid)\n",
    "\n",
    "# make the scispot return a pretty dataframe\n",
    "json_to_pd_df(find_entry_from_uuid('Sample Manager', test_uuid))\n",
    "\n",
    "# initialize an empty Protein Manager\n",
    "prot_df = pd.DataFrame(data=fetch_random_entry()['rows'], columns=fetch_random_entry()['headers'])\n",
    "prot_df= prot_df.drop(prot_df.index[0])\n",
    "print(prot_df)\n",
    "\n",
    "# test_sampleid = \"THP1_dbgen1_VTP50469_3\"\n",
    "fetch_entry_from_id(\"Sample Manager\",test_sampleid)"
   ]
  },
  {
   "cell_type": "code",
   "execution_count": 4,
   "metadata": {
    "scrolled": true
   },
   "outputs": [
    {
     "name": "stdout",
     "output_type": "stream",
     "text": [
      "Imported functions for manipulating Protein Manager"
     ]
    }
   ],
   "source": [
    "# add a new row to the Protein Manager\n",
    "def add_protein_manager_entry(new_row):\n",
    "    url = \"https://api.scispot.io/tryingtofixcors/labsheets/add-rows\"\n",
    "    payload = {\n",
    "        \"apiKey\": API_KEY,\n",
    "        \"manager\": \"Protein Manager\",\n",
    "        \"rows\": [new_row]\n",
    "    }\n",
    "    headers = {\"Content-Type\": \"application/json\"}\n",
    "    #print(new_row)\n",
    "    \n",
    "    response = requests.request(\"POST\", url, json=payload, headers=headers)\n",
    "    print(response.text)\n",
    "\n",
    "# generate a new row for the protein manager\n",
    "def new_protein_row(sample_uuid, fraction):\n",
    "    \n",
    "    # generate protein ID from sample ID\n",
    "    sample_id = json_to_pd_df(find_entry_from_uuid(\"Sample Manager\", sample_uuid))['Sample ID'][0]\n",
    "    #print(sample_id)\n",
    "    protein_id = sample_id + \"_\" + fraction\n",
    "          \n",
    "    new_protein_row = [\n",
    "        protein_id, # Protein ID\n",
    "        sample_uuid, # Sample ID required, must be UUID\n",
    "        \"e45d66e9-abed-4d24-9dd8-8f074233c2d8\", # Protocol ID required, must be UUID\n",
    "        \"01/01/2023\", # \"Extraction Date\" column required, must be MM/DD/YYYY\n",
    "        \"Lindsay\", # \"Extraction Scientist\" column required, must be name\n",
    "        fraction, # Extraction fraction\n",
    "        \"extractionnote_here\", # Extraction Note\n",
    "        \"0\", # Protein Concentration (ug/mL)\n",
    "        \"bca_here\", # BCA Results\n",
    "        \"\", # Location\n",
    "        \"storageform_here\", # Storage Form\n",
    "        \"storageamt_here\", # Storage Amount (uL)\n",
    "        \"True\", # \"Pass\" column required\n",
    "        sample_uuid, # Parent UUID\n",
    "        \"\", # Children UUID\n",
    "        \"\", # Created By\n",
    "        \"\" # Creation Date\n",
    "    ]\n",
    "\n",
    "    return(new_protein_row)\n",
    "\n",
    "sys.stdout.write(\"Imported functions for manipulating Protein Manager\")"
   ]
  },
  {
   "cell_type": "code",
   "execution_count": null,
   "metadata": {},
   "outputs": [],
   "source": [
    "##\n",
    "## GENERATE PROTEIN SAMPLES\n",
    "##\n",
    "\n",
    "# read in a Scispot plate TSV export of Sample Manager\n",
    "# ChESS_dbgen1_plate1 was done manually\n",
    "#sample_fi = \"G:/My Drive/Lindsay Pino/proj/2023_scispot_utils/data/Sample-2023-04-10T19_24_09.tsv\" # ChESS_dbgen1_202212_plate1rep2 \n",
    "#sample_fi = \"G:/My Drive/Lindsay Pino/proj/2023_scispot_utils/data/Sample-2023-04-10T19_24_09.tsv\" # ChESS_dbgen1_202212_plate1rep3\n",
    "input_df = pd.read_table(sample_fi, sep='\\t', engine=\"python\")\n",
    "input_df.tail()\n",
    "\n",
    "# generate the new protein samples and add them to SciSpot Protein Manager\n",
    "# note: uuid header string parses weird > \"ï»¿uuid\"\n",
    "for uuid in input_df[\"ï»¿uuid\"]:\n",
    "\n",
    "    # define Protein fractions to be generated for each Sample\n",
    "    extraction_frx = ['cytosol',\n",
    "                     'chromatin',\n",
    "                     'insoluble']\n",
    "    \n",
    "    # generate the Protein Manager row for each fraction\n",
    "    for frx in extraction_frx:\n",
    "        new_row = new_protein_row(uuid, frx)\n",
    "    \n",
    "        # add the row to the Protein Manager\n",
    "        #add_protein_manager_entry(new_row)"
   ]
  },
  {
   "cell_type": "code",
   "execution_count": null,
   "metadata": {},
   "outputs": [],
   "source": [
    "##\n",
    "## GENERATE PEPTIDE SAMPLES\n",
    "##\n",
    "\n"
   ]
  }
 ],
 "metadata": {
  "kernelspec": {
   "display_name": "Python 3",
   "language": "python",
   "name": "python3"
  },
  "language_info": {
   "codemirror_mode": {
    "name": "ipython",
    "version": 3
   },
   "file_extension": ".py",
   "mimetype": "text/x-python",
   "name": "python",
   "nbconvert_exporter": "python",
   "pygments_lexer": "ipython3",
   "version": "3.7.4"
  }
 },
 "nbformat": 4,
 "nbformat_minor": 4
}
